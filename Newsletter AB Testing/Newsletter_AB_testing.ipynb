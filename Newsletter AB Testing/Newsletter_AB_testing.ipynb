{
  "nbformat": 4,
  "nbformat_minor": 0,
  "metadata": {
    "colab": {
      "provenance": [],
      "authorship_tag": "ABX9TyNwxc5SoemF4MhvCBeiWBfo",
      "include_colab_link": true
    },
    "kernelspec": {
      "name": "python3",
      "display_name": "Python 3"
    },
    "language_info": {
      "name": "python"
    }
  },
  "cells": [
    {
      "cell_type": "markdown",
      "metadata": {
        "id": "view-in-github",
        "colab_type": "text"
      },
      "source": [
        "<a href=\"https://colab.research.google.com/github/janosmrtn/Data-Analyst-Portfolio/blob/main/Newsletter_AB_testing.ipynb\" target=\"_parent\"><img src=\"https://colab.research.google.com/assets/colab-badge.svg\" alt=\"Open In Colab\"/></a>"
      ]
    },
    {
      "cell_type": "code",
      "execution_count": 19,
      "metadata": {
        "id": "i7ohhLLpViRa"
      },
      "outputs": [],
      "source": [
        "import scipy.stats as stats"
      ]
    },
    {
      "cell_type": "code",
      "source": [
        "# Define the data for each language\n",
        "data = [\n",
        "    {\"language\": \"EN\", \"clicked_A\": 63, \"delivered_A\": 12479, \"clicked_B\": 63, \"delivered_B\": 12482},\n",
        "    {\"language\": \"DE\", \"clicked_A\": 38, \"delivered_A\": 1350, \"clicked_B\": 53, \"delivered_B\": 1351},\n",
        "    {\"language\": \"ES\", \"clicked_A\": 44, \"delivered_A\": 5356, \"clicked_B\": 46, \"delivered_B\": 5352},\n",
        "    {\"language\": \"FR\", \"clicked_A\": 18, \"delivered_A\": 1371, \"clicked_B\": 22, \"delivered_B\": 1367},\n",
        "    {\"language\": \"IT\", \"clicked_A\": 29, \"delivered_A\": 1420, \"clicked_B\": 44, \"delivered_B\": 1418}\n",
        "]"
      ],
      "metadata": {
        "id": "5_jILf7nlPqz"
      },
      "execution_count": 20,
      "outputs": []
    },
    {
      "cell_type": "code",
      "source": [
        "# Initialize lists to store results for each language\n",
        "results = []"
      ],
      "metadata": {
        "id": "v0Co2P8tlPtX"
      },
      "execution_count": 21,
      "outputs": []
    },
    {
      "cell_type": "code",
      "source": [
        "# Perform calculations for each language\n",
        "for entry in data:\n",
        "    clicked_A = entry[\"clicked_A\"]\n",
        "    delivered_A = entry[\"delivered_A\"]\n",
        "    clicked_B = entry[\"clicked_B\"]\n",
        "    delivered_B = entry[\"delivered_B\"]\n",
        "\n",
        "    click_rates_A = [1] * clicked_A + [0] * (delivered_A - clicked_A)\n",
        "    click_rates_B = [1] * clicked_B + [0] * (delivered_B - clicked_B)\n",
        "\n",
        "    t_statistic, p_value = stats.ttest_ind(click_rates_A, click_rates_B)\n",
        "\n",
        "    if p_value < 0.1:\n",
        "        significance = \"Significant\"\n",
        "    else:\n",
        "        significance = \"Not Significant\"\n",
        "\n",
        "    results.append({\n",
        "        \"language\": entry[\"language\"],\n",
        "        \"click_rate_A\": clicked_A / delivered_A,\n",
        "        \"click_rate_B\": clicked_B / delivered_B,\n",
        "        \"significance\": significance\n",
        "    })"
      ],
      "metadata": {
        "id": "6H5fZJ85lP0x"
      },
      "execution_count": 22,
      "outputs": []
    },
    {
      "cell_type": "code",
      "source": [
        "# Calculate total results\n",
        "total_clicked_A = sum(entry[\"clicked_A\"] for entry in data)\n",
        "total_delivered_A = sum(entry[\"delivered_A\"] for entry in data)\n",
        "total_click_rate_A = total_clicked_A / total_delivered_A\n",
        "\n",
        "total_clicked_B = sum(entry[\"clicked_B\"] for entry in data)\n",
        "total_delivered_B = sum(entry[\"delivered_B\"] for entry in data)\n",
        "total_click_rate_B = total_clicked_B / total_delivered_B\n",
        "\n",
        "t_statistic_total, p_value_total = stats.ttest_ind(\n",
        "    [1] * total_clicked_A + [0] * (total_delivered_A - total_clicked_A),\n",
        "    [1] * total_clicked_B + [0] * (total_delivered_B - total_clicked_B)\n",
        ")\n",
        "\n",
        "if p_value_total < 0.1:\n",
        "    significance_total = \"Significant\"\n",
        "else:\n",
        "    significance_total = \"Not Significant\""
      ],
      "metadata": {
        "id": "N9Xh4rxJlP3b"
      },
      "execution_count": 23,
      "outputs": []
    },
    {
      "cell_type": "code",
      "source": [
        "# Print results for each language\n",
        "for result in results:\n",
        "    print(f\"Language: {result['language']}\")\n",
        "    print(f\"Click Rate A: {result['click_rate_A']:.4f}\")\n",
        "    print(f\"Click Rate B: {result['click_rate_B']:.4f}\")\n",
        "    print(f\"Significance: {result['significance']}\")\n",
        "    print()"
      ],
      "metadata": {
        "colab": {
          "base_uri": "https://localhost:8080/"
        },
        "id": "M1Dzq7wSlQB3",
        "outputId": "95659c0d-3650-48c6-cceb-832b93f1811e"
      },
      "execution_count": 24,
      "outputs": [
        {
          "output_type": "stream",
          "name": "stdout",
          "text": [
            "Language: EN\n",
            "Click Rate A: 0.0050\n",
            "Click Rate B: 0.0050\n",
            "Significance: Not Significant\n",
            "\n",
            "Language: DE\n",
            "Click Rate A: 0.0281\n",
            "Click Rate B: 0.0392\n",
            "Significance: Not Significant\n",
            "\n",
            "Language: ES\n",
            "Click Rate A: 0.0082\n",
            "Click Rate B: 0.0086\n",
            "Significance: Not Significant\n",
            "\n",
            "Language: FR\n",
            "Click Rate A: 0.0131\n",
            "Click Rate B: 0.0161\n",
            "Significance: Not Significant\n",
            "\n",
            "Language: IT\n",
            "Click Rate A: 0.0204\n",
            "Click Rate B: 0.0310\n",
            "Significance: Significant\n",
            "\n"
          ]
        }
      ]
    },
    {
      "cell_type": "code",
      "source": [
        "# Print total results\n",
        "print(\"Total Results:\")\n",
        "print(f\"Total Click Rate A: {total_click_rate_A:.4f}\")\n",
        "print(f\"Total Click Rate B: {total_click_rate_B:.4f}\")\n",
        "print(f\"Total Significance: {significance_total}\")"
      ],
      "metadata": {
        "colab": {
          "base_uri": "https://localhost:8080/"
        },
        "id": "Bu4OKr-ileNn",
        "outputId": "02243e15-eaf6-4848-cd03-4f2ea1249971"
      },
      "execution_count": 25,
      "outputs": [
        {
          "output_type": "stream",
          "name": "stdout",
          "text": [
            "Total Results:\n",
            "Total Click Rate A: 0.0087\n",
            "Total Click Rate B: 0.0104\n",
            "Total Significance: Significant\n"
          ]
        }
      ]
    }
  ]
}
